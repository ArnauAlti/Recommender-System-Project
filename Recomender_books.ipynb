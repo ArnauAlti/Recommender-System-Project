{
 "cells": [
  {
   "cell_type": "markdown",
   "id": "dbe9be49-2626-4ad7-a8be-cd132a6f44c7",
   "metadata": {},
   "source": [
    "# Recomendation book system\n",
    "\n",
    "The goal of this notebook is to build a deeper intuition about recommendation systems by creating a web app that recommends movies. I'm using the Goodreads-books that's usings the 2020 (https://www.goodreads.com/api), The dataset consists on around 340556 books."
   ]
  },
  {
   "cell_type": "markdown",
   "id": "17a88dae-b8ed-4cd4-956e-6a44e0d70d0d",
   "metadata": {},
   "source": [
    "## Data exploration and analysis:\n",
    "\n",
    "### Books\n",
    "- bookID\n",
    "     ```A unique Identification number for each book.```\n",
    "    \n",
    "- title\n",
    "    ``` The name under which the book was published.```\n",
    "    \n",
    "- authors\n",
    "    ```Names of the authors of the book. Multiple authors are delimited with -.```\n",
    "    \n",
    "- average_rating\n",
    "    ```The average rating of the book received in total.```\n",
    "    \n",
    "- isbn\n",
    "    ``` Another unique number to identify the book, the International Standard Book Number.```\n",
    "\n",
    "- language_code\n",
    "    ``` Helps understand what is the primary language of the book. For instance, eng is standard for English.```\n",
    "\n",
    "- num_pages\n",
    "    ```Number of pages the book contains.```\n",
    "\n",
    "- ratings_count\n",
    "    ``` Total number of ratings the book received.```\n",
    "\n",
    "- text_reviews_countTotal \n",
    "    ``` number of written text reviews the book received.```\n",
    "\n",
    "\n",
    "\n",
    "### Ratings:\n",
    "- User-ID\n",
    "    ``` Unique Identification number for each user```\n",
    "    \n",
    "- ISBN\n",
    "    ```A unique Identification number for each book.```\n",
    "- Book-Rating\n",
    "    ```user rating of a book in particular```"
   ]
  },
  {
   "cell_type": "markdown",
   "id": "b0300fd5-a33f-4a4b-a058-1159b964e0c7",
   "metadata": {},
   "source": [
    "First, I’ll use Pandas to get familiar with the data. I'll define three key libraries:\n",
    "\n",
    "- **Pandas** for data manipulation and exploration\n",
    "- **NumPy** for numerical operations and data handling\n",
    "- **Matplotlib** for data visualization and plotting"
   ]
  },
  {
   "cell_type": "code",
   "execution_count": 1,
   "id": "fc8bfeda-97c0-4e54-9f1c-354ec95a0ee5",
   "metadata": {},
   "outputs": [],
   "source": [
    "import pandas as pd\n",
    "import numpy as np\n",
    "import seaborn as sns\n",
    "import matplotlib.pyplot as plt\n",
    "import sys"
   ]
  },
  {
   "cell_type": "code",
   "execution_count": 2,
   "id": "c39b8dda-1838-4eed-9517-f350829e83d4",
   "metadata": {},
   "outputs": [],
   "source": [
    "df = pd.read_csv('../data/Books/Ratings.csv')"
   ]
  },
  {
   "cell_type": "code",
   "execution_count": 3,
   "id": "437576a3-cfcc-4d9a-bc41-68b813a3283f",
   "metadata": {},
   "outputs": [
    {
     "name": "stdout",
     "output_type": "stream",
     "text": [
      "<class 'pandas.core.frame.DataFrame'>\n",
      "RangeIndex: 1149780 entries, 0 to 1149779\n",
      "Data columns (total 3 columns):\n",
      " #   Column       Non-Null Count    Dtype \n",
      "---  ------       --------------    ----- \n",
      " 0   User-ID      1149780 non-null  int64 \n",
      " 1   ISBN         1149780 non-null  object\n",
      " 2   Book-Rating  1149780 non-null  int64 \n",
      "dtypes: int64(2), object(1)\n",
      "memory usage: 26.3+ MB\n"
     ]
    }
   ],
   "source": [
    "df.info()"
   ]
  },
  {
   "cell_type": "code",
   "execution_count": 4,
   "id": "ce656974-ee20-4935-bfb3-c2a11c282fcc",
   "metadata": {},
   "outputs": [
    {
     "data": {
      "text/html": [
       "<div>\n",
       "<style scoped>\n",
       "    .dataframe tbody tr th:only-of-type {\n",
       "        vertical-align: middle;\n",
       "    }\n",
       "\n",
       "    .dataframe tbody tr th {\n",
       "        vertical-align: top;\n",
       "    }\n",
       "\n",
       "    .dataframe thead th {\n",
       "        text-align: right;\n",
       "    }\n",
       "</style>\n",
       "<table border=\"1\" class=\"dataframe\">\n",
       "  <thead>\n",
       "    <tr style=\"text-align: right;\">\n",
       "      <th></th>\n",
       "      <th>User-ID</th>\n",
       "      <th>Book-Rating</th>\n",
       "    </tr>\n",
       "  </thead>\n",
       "  <tbody>\n",
       "    <tr>\n",
       "      <th>count</th>\n",
       "      <td>1.149780e+06</td>\n",
       "      <td>1.149780e+06</td>\n",
       "    </tr>\n",
       "    <tr>\n",
       "      <th>mean</th>\n",
       "      <td>1.403864e+05</td>\n",
       "      <td>2.866950e+00</td>\n",
       "    </tr>\n",
       "    <tr>\n",
       "      <th>std</th>\n",
       "      <td>8.056228e+04</td>\n",
       "      <td>3.854184e+00</td>\n",
       "    </tr>\n",
       "    <tr>\n",
       "      <th>min</th>\n",
       "      <td>2.000000e+00</td>\n",
       "      <td>0.000000e+00</td>\n",
       "    </tr>\n",
       "    <tr>\n",
       "      <th>25%</th>\n",
       "      <td>7.034500e+04</td>\n",
       "      <td>0.000000e+00</td>\n",
       "    </tr>\n",
       "    <tr>\n",
       "      <th>50%</th>\n",
       "      <td>1.410100e+05</td>\n",
       "      <td>0.000000e+00</td>\n",
       "    </tr>\n",
       "    <tr>\n",
       "      <th>75%</th>\n",
       "      <td>2.110280e+05</td>\n",
       "      <td>7.000000e+00</td>\n",
       "    </tr>\n",
       "    <tr>\n",
       "      <th>max</th>\n",
       "      <td>2.788540e+05</td>\n",
       "      <td>1.000000e+01</td>\n",
       "    </tr>\n",
       "  </tbody>\n",
       "</table>\n",
       "</div>"
      ],
      "text/plain": [
       "            User-ID   Book-Rating\n",
       "count  1.149780e+06  1.149780e+06\n",
       "mean   1.403864e+05  2.866950e+00\n",
       "std    8.056228e+04  3.854184e+00\n",
       "min    2.000000e+00  0.000000e+00\n",
       "25%    7.034500e+04  0.000000e+00\n",
       "50%    1.410100e+05  0.000000e+00\n",
       "75%    2.110280e+05  7.000000e+00\n",
       "max    2.788540e+05  1.000000e+01"
      ]
     },
     "execution_count": 4,
     "metadata": {},
     "output_type": "execute_result"
    }
   ],
   "source": [
    "df.describe()"
   ]
  },
  {
   "cell_type": "code",
   "execution_count": 5,
   "id": "b89d0047-e797-46b4-9c11-ff95f662f493",
   "metadata": {},
   "outputs": [
    {
     "data": {
      "text/plain": [
       "340556"
      ]
     },
     "execution_count": 5,
     "metadata": {},
     "output_type": "execute_result"
    }
   ],
   "source": [
    "len(df.ISBN.unique()) "
   ]
  },
  {
   "cell_type": "code",
   "execution_count": 6,
   "id": "02792b6c-9d01-45ba-a163-99325a06aa97",
   "metadata": {},
   "outputs": [
    {
     "data": {
      "text/plain": [
       "0    0\n",
       "1    5\n",
       "2    0\n",
       "3    3\n",
       "4    6\n",
       "Name: Book-Rating, dtype: int64"
      ]
     },
     "execution_count": 6,
     "metadata": {},
     "output_type": "execute_result"
    }
   ],
   "source": [
    "df[\"Book-Rating\"].head()"
   ]
  },
  {
   "cell_type": "code",
   "execution_count": 32,
   "id": "944587c8-5b30-4590-bcfd-fdd91c2a4581",
   "metadata": {},
   "outputs": [
    {
     "data": {
      "text/html": [
       "<div>\n",
       "<style scoped>\n",
       "    .dataframe tbody tr th:only-of-type {\n",
       "        vertical-align: middle;\n",
       "    }\n",
       "\n",
       "    .dataframe tbody tr th {\n",
       "        vertical-align: top;\n",
       "    }\n",
       "\n",
       "    .dataframe thead th {\n",
       "        text-align: right;\n",
       "    }\n",
       "</style>\n",
       "<table border=\"1\" class=\"dataframe\">\n",
       "  <thead>\n",
       "    <tr style=\"text-align: right;\">\n",
       "      <th></th>\n",
       "      <th>User-ID</th>\n",
       "      <th>ISBN</th>\n",
       "      <th>Book-Rating</th>\n",
       "    </tr>\n",
       "  </thead>\n",
       "  <tbody>\n",
       "    <tr>\n",
       "      <th>0</th>\n",
       "      <td>104433</td>\n",
       "      <td>57188</td>\n",
       "      <td>0</td>\n",
       "    </tr>\n",
       "    <tr>\n",
       "      <th>1</th>\n",
       "      <td>104434</td>\n",
       "      <td>29750</td>\n",
       "      <td>5</td>\n",
       "    </tr>\n",
       "    <tr>\n",
       "      <th>2</th>\n",
       "      <td>104435</td>\n",
       "      <td>107392</td>\n",
       "      <td>0</td>\n",
       "    </tr>\n",
       "    <tr>\n",
       "      <th>3</th>\n",
       "      <td>104436</td>\n",
       "      <td>127253</td>\n",
       "      <td>3</td>\n",
       "    </tr>\n",
       "    <tr>\n",
       "      <th>4</th>\n",
       "      <td>104436</td>\n",
       "      <td>127287</td>\n",
       "      <td>6</td>\n",
       "    </tr>\n",
       "  </tbody>\n",
       "</table>\n",
       "</div>"
      ],
      "text/plain": [
       "   User-ID    ISBN  Book-Rating\n",
       "0   104433   57188            0\n",
       "1   104434   29750            5\n",
       "2   104435  107392            0\n",
       "3   104436  127253            3\n",
       "4   104436  127287            6"
      ]
     },
     "execution_count": 32,
     "metadata": {},
     "output_type": "execute_result"
    }
   ],
   "source": [
    "df.head()"
   ]
  },
  {
   "cell_type": "code",
   "execution_count": 7,
   "id": "31ee37ed-438d-4e65-95af-4e57757444f4",
   "metadata": {},
   "outputs": [
    {
     "data": {
      "image/png": "[encoded data removed]",
      "text/plain": [
       "<Figure size 400x600 with 1 Axes>"
      ]
     },
     "metadata": {},
     "output_type": "display_data"
    }
   ],
   "source": [
    "plt.figure(figsize=(4,6))\n",
    "plt.hist(df[\"Book-Rating\"])\n",
    "plt.xlabel(\"rating\")\n",
    "plt.ylabel(\"count\")\n",
    "plt.title(\"rate count\")\n",
    "plt.show()"
   ]
  },
  {
   "cell_type": "code",
   "execution_count": 8,
   "id": "b5f31f4d-fa93-42ab-bc20-741a5ce7498d",
   "metadata": {},
   "outputs": [
    {
     "name": "stdout",
     "output_type": "stream",
     "text": [
      "number of duplicates 0\n"
     ]
    }
   ],
   "source": [
    "duplicates = df.duplicated()\n",
    "print(f\"number of duplicates {duplicates.sum()}\")"
   ]
  },
  {
   "cell_type": "markdown",
   "id": "42fbed90-0acb-48a8-bfaf-0d3780e5797b",
   "metadata": {},
   "source": [
    "meaning we have no duplicated rows."
   ]
  },
  {
   "cell_type": "code",
   "execution_count": 9,
   "id": "d03a9a38-11c1-4312-99bb-18db0e4c6b8a",
   "metadata": {},
   "outputs": [],
   "source": [
    "def plotCorrelationMatrix(df, graphWidth):\n",
    "    filename = \"ratings.csv\"\n",
    "        \n",
    "    corr = df.corr()\n",
    "    plt.figure(num=None, figsize=(graphWidth, graphWidth), dpi=80, facecolor='w', edgecolor='k')\n",
    "    corrMat = plt.matshow(corr, fignum = 1)\n",
    "    plt.xticks(range(len(corr.columns)), corr.columns, rotation=90)\n",
    "    plt.yticks(range(len(corr.columns)), corr.columns)\n",
    "    plt.gca().xaxis.tick_bottom()\n",
    "    plt.colorbar(corrMat)\n",
    "    plt.title(f'Correlation Matrix for {filename}', fontsize=15)\n",
    "    plt.show()"
   ]
  },
  {
   "cell_type": "code",
   "execution_count": 10,
   "id": "f485d78d-2373-40b7-8abe-09e812d10b85",
   "metadata": {},
   "outputs": [
    {
     "data": {
      "image/png": "[encoded data removed]",
      "text/plain": [
       "<Figure size 640x640 with 2 Axes>"
      ]
     },
     "metadata": {},
     "output_type": "display_data"
    }
   ],
   "source": [
    "df_numeric = df.select_dtypes(include=['float', 'int'])\n",
    "plotCorrelationMatrix(df_numeric,8)"
   ]
  },
  {
   "cell_type": "markdown",
   "id": "f6f32d57-a2fa-4013-b52d-23de91ef7e30",
   "metadata": {},
   "source": [
    "Let's create a class to store all the data"
   ]
  },
  {
   "cell_type": "code",
   "execution_count": 11,
   "id": "409b8640-5830-4900-8b2c-8564978183cf",
   "metadata": {},
   "outputs": [],
   "source": [
    "from torch.utils.data import Dataset, DataLoader"
   ]
  },
  {
   "cell_type": "code",
   "execution_count": 12,
   "id": "c9450d6f-1c47-42f6-87eb-c7dbf9674569",
   "metadata": {},
   "outputs": [],
   "source": [
    "import torch\n",
    "from torch.utils.data import Dataset\n",
    "\n",
    "class BookshelfDataset(Dataset):\n",
    "    def __init__(self, users, books, ratings):\n",
    "        \"\"\"\n",
    "        Initializes the parameters users, books, ratings.\n",
    "        \"\"\"\n",
    "        # Reset indices to ensure integer indexing\n",
    "        self.users = users.reset_index(drop=True)\n",
    "        self.books = books.reset_index(drop=True)\n",
    "        self.ratings = ratings.reset_index(drop=True)\n",
    "\n",
    "    def __len__(self):\n",
    "        \"\"\"\n",
    "        Returns the length of the dataset.\n",
    "        \"\"\"\n",
    "        return len(self.users)\n",
    "\n",
    "    def __getitem__(self, item):\n",
    "        \"\"\"\n",
    "        Retrieves a sample from the dataset at the specified index.\n",
    "        \"\"\"\n",
    "        user = self.users[item]\n",
    "        book = self.books[item]\n",
    "        rating = self.ratings[item]\n",
    "\n",
    "        return {\n",
    "            \"users\": torch.tensor(user, dtype=torch.long),\n",
    "            \"books\": torch.tensor(book, dtype=torch.long),\n",
    "            \"ratings\": torch.tensor(rating, dtype=torch.float),\n",
    "        }\n",
    "\n",
    "    def get_item(self, item):\n",
    "        \"\"\"\n",
    "        Retrieves raw user, book, and rating data without tensor conversion.\n",
    "        \"\"\"\n",
    "        user = self.users[item]\n",
    "        book = self.books[item]\n",
    "        rating = self.ratings[item]\n",
    "\n",
    "        return {\n",
    "            \"users\": user,\n",
    "            \"books\": book,\n",
    "            \"ratings\": rating,\n",
    "        }\n"
   ]
  },
  {
   "cell_type": "code",
   "execution_count": 13,
   "id": "23bb73f8-cd7f-4ea6-aa0f-a5598d69aa33",
   "metadata": {},
   "outputs": [
    {
     "data": {
      "text/plain": [
       "{'users': 276729, 'books': '0521795028', 'ratings': 6}"
      ]
     },
     "execution_count": 13,
     "metadata": {},
     "output_type": "execute_result"
    }
   ],
   "source": [
    "df_prueba = BookshelfDataset(df[\"User-ID\"],df[\"ISBN\"],df[\"Book-Rating\"])\n",
    "\n",
    "item_2 = df_prueba.get_item(4)\n",
    "item_2\n",
    "\n"
   ]
  },
  {
   "cell_type": "markdown",
   "id": "471398c0-9d8a-4a5f-8422-498923eeb14d",
   "metadata": {},
   "source": [
    "### Vamos a crear el modelo, la idea es una red usando embeddings de user i book id."
   ]
  },
  {
   "cell_type": "code",
   "execution_count": 14,
   "id": "c92179bf-cc56-4a9c-afff-074ed96c55ee",
   "metadata": {},
   "outputs": [
    {
     "name": "stdout",
     "output_type": "stream",
     "text": [
      "cuda\n"
     ]
    }
   ],
   "source": [
    "device = torch.device(\"cuda\" if torch.cuda.is_available() else \"cpu\")\n",
    "print(device)"
   ]
  },
  {
   "cell_type": "code",
   "execution_count": 15,
   "id": "3f69d785-eb14-4dfe-baa9-6b2e6267038f",
   "metadata": {},
   "outputs": [],
   "source": [
    "from sklearn import model_selection, preprocessing\n",
    "import torch\n",
    "import torch.nn as nn"
   ]
  },
  {
   "cell_type": "code",
   "execution_count": 16,
   "id": "310a933b-40cf-4e07-84ad-88dfbe40d89b",
   "metadata": {},
   "outputs": [],
   "source": [
    "import torch\n",
    "import torch.nn as nn\n",
    "\n",
    "class RecommenderBookSystem(nn.Module):\n",
    "    def __init__(self,\n",
    "                 num_users,\n",
    "                 num_books,\n",
    "                 embedding_size=256,\n",
    "                 hidden_dim=256,\n",
    "                 dropout_rate=0.2):\n",
    "        super(RecommenderBookSystem, self).__init__()\n",
    "        self.num_users = num_users\n",
    "        self.num_books = num_books  # Cambié num_book a num_books para consistencia\n",
    "        self.embedding_size = embedding_size\n",
    "        self.hidden_dim = hidden_dim\n",
    "\n",
    "        # Crear las embeddings para usuarios y libros\n",
    "        self.user_embedd = nn.Embedding(num_embeddings=self.num_users, embedding_dim=self.embedding_size)\n",
    "        self.book_embedd = nn.Embedding(num_embeddings=self.num_books, embedding_dim=self.embedding_size)\n",
    "\n",
    "        # Capas completamente conectadas\n",
    "        self.fc1 = nn.Linear(2 * self.embedding_size, self.hidden_dim)\n",
    "        self.fc2 = nn.Linear(self.hidden_dim, 1)  # Capa de salida de 1 solo valor para predecir la puntuación\n",
    "\n",
    "        # Dropout y activación\n",
    "        self.dropout = nn.Dropout(p=dropout_rate)  # Corregido `droput` a `dropout`\n",
    "        self.relu = nn.ReLU()\n",
    "\n",
    "    def forward(self, users, books):\n",
    "        user_embedding = self.user_embedd(users)\n",
    "        book_embedding = self.book_embedd(books)\n",
    "\n",
    "        # Combinar las embeddings de usuario y libro\n",
    "        combined = torch.cat([user_embedding, book_embedding], dim=1)\n",
    "        \n",
    "        # Paso por las capas de la red\n",
    "        x = self.fc1(combined)\n",
    "        x = self.relu(x)\n",
    "        x = self.dropout(x)  # Aplicar dropout después de la activación\n",
    "        output = self.fc2(x)  # Salida final para la predicción de la puntuación\n",
    "\n",
    "        return output\n"
   ]
  },
  {
   "cell_type": "markdown",
   "id": "5a2d2263-66d8-42d4-8cc4-bbda505fa506",
   "metadata": {},
   "source": [
    "### Lets prepare our data"
   ]
  },
  {
   "cell_type": "code",
   "execution_count": 17,
   "id": "ead5af5b-3ada-4bee-8cf9-4cab6658d515",
   "metadata": {},
   "outputs": [
    {
     "data": {
      "text/html": [
       "<div>\n",
       "<style scoped>\n",
       "    .dataframe tbody tr th:only-of-type {\n",
       "        vertical-align: middle;\n",
       "    }\n",
       "\n",
       "    .dataframe tbody tr th {\n",
       "        vertical-align: top;\n",
       "    }\n",
       "\n",
       "    .dataframe thead th {\n",
       "        text-align: right;\n",
       "    }\n",
       "</style>\n",
       "<table border=\"1\" class=\"dataframe\">\n",
       "  <thead>\n",
       "    <tr style=\"text-align: right;\">\n",
       "      <th></th>\n",
       "      <th>User-ID</th>\n",
       "      <th>ISBN</th>\n",
       "      <th>Book-Rating</th>\n",
       "    </tr>\n",
       "  </thead>\n",
       "  <tbody>\n",
       "    <tr>\n",
       "      <th>947209</th>\n",
       "      <td>86358</td>\n",
       "      <td>207139</td>\n",
       "      <td>8</td>\n",
       "    </tr>\n",
       "    <tr>\n",
       "      <th>673248</th>\n",
       "      <td>61734</td>\n",
       "      <td>296529</td>\n",
       "      <td>0</td>\n",
       "    </tr>\n",
       "    <tr>\n",
       "      <th>10347</th>\n",
       "      <td>95</td>\n",
       "      <td>256956</td>\n",
       "      <td>0</td>\n",
       "    </tr>\n",
       "    <tr>\n",
       "      <th>63804</th>\n",
       "      <td>4671</td>\n",
       "      <td>166653</td>\n",
       "      <td>8</td>\n",
       "    </tr>\n",
       "    <tr>\n",
       "      <th>8421</th>\n",
       "      <td>105111</td>\n",
       "      <td>234941</td>\n",
       "      <td>0</td>\n",
       "    </tr>\n",
       "  </tbody>\n",
       "</table>\n",
       "</div>"
      ],
      "text/plain": [
       "        User-ID    ISBN  Book-Rating\n",
       "947209    86358  207139            8\n",
       "673248    61734  296529            0\n",
       "10347        95  256956            0\n",
       "63804      4671  166653            8\n",
       "8421     105111  234941            0"
      ]
     },
     "execution_count": 17,
     "metadata": {},
     "output_type": "execute_result"
    }
   ],
   "source": [
    "le_user = preprocessing.LabelEncoder()\n",
    "le_book = preprocessing.LabelEncoder()\n",
    "df[\"User-ID\"] = le_user.fit_transform(df[\"User-ID\"].values)\n",
    "df[\"ISBN\"] = le_book.fit_transform(df[\"ISBN\"].values)\n",
    "\n",
    "\n",
    "df_train, df_val = model_selection.train_test_split(df,test_size=0.1,random_state=23,stratify=df[\"Book-Rating\"].values)\n",
    "\n",
    "df_val.head()"
   ]
  },
  {
   "cell_type": "code",
   "execution_count": 18,
   "id": "42dbc6d8-2ba6-408f-a80a-cdc3539e3cc7",
   "metadata": {},
   "outputs": [],
   "source": [
    "train_dataset = BookshelfDataset(users = df_train[\"User-ID\"], \n",
    "                                 books = df_train[\"ISBN\"],\n",
    "                                 ratings=df_train[\"Book-Rating\"])\n",
    "\n",
    "valid_dataset = BookshelfDataset(users = df_val[\"User-ID\"],  \n",
    "                                 books = df_val[\"ISBN\"],\n",
    "                                 ratings=df_val[\"Book-Rating\"])"
   ]
  },
  {
   "cell_type": "markdown",
   "id": "1477d183-0184-4e5e-b8d1-e4fd2f979a89",
   "metadata": {},
   "source": [
    "### Create Data Loaders"
   ]
  },
  {
   "cell_type": "code",
   "execution_count": 19,
   "id": "31dd21ca-c128-4d26-b322-8c5f063af078",
   "metadata": {},
   "outputs": [],
   "source": [
    "BATCH_SIZE = 32\n",
    "train_loader = DataLoader(train_dataset,batch_size = BATCH_SIZE,shuffle=True,num_workers = 0)\n",
    "\n",
    "val_loader = DataLoader(valid_dataset,batch_size = BATCH_SIZE , shuffle=True,num_workers = 0)"
   ]
  },
  {
   "cell_type": "markdown",
   "id": "fceaca95-da3f-4ed4-978d-394368df9626",
   "metadata": {},
   "source": [
    "## Model Creation"
   ]
  },
  {
   "cell_type": "code",
   "execution_count": 20,
   "id": "1562a1de-2339-4cb1-be37-9c27337a30be",
   "metadata": {},
   "outputs": [],
   "source": [
    "recomendation_model = RecommenderBookSystem(\n",
    "    num_users = len(le_user.classes_),\n",
    "    num_books= len(le_book.classes_),\n",
    "    embedding_size= 64,\n",
    "    hidden_dim= 128,\n",
    "    dropout_rate=0.2\n",
    ").to(device)\n",
    "\n",
    "optimizer = torch.optim.AdamW(recomendation_model.parameters(),lr=1e-4)\n",
    "loss_func = nn.MSELoss()\n"
   ]
  },
  {
   "cell_type": "code",
   "execution_count": 21,
   "id": "4f9d0bba-9ad6-4748-9548-1ce15f585391",
   "metadata": {},
   "outputs": [],
   "source": [
    "EPOCHS = 20\n",
    "\n",
    "\n",
    "# Function to log progress\n",
    "def log_progress(epoch, step, total_loss, log_progress_step, data_size, losses):\n",
    "    avg_loss = total_loss / log_progress_step\n",
    "    sys.stderr.write(\n",
    "        f\"\\r{epoch+1:02d}/{EPOCHS:02d} | Step: {step}/{data_size} | Avg Loss: {avg_loss:<6.9f}\"\n",
    "    )\n",
    "    sys.stderr.flush()\n",
    "    losses.append(avg_loss)\n",
    "\n"
   ]
  },
  {
   "cell_type": "code",
   "execution_count": 22,
   "id": "69780821-ece5-4526-ac3b-7b5845c46ac4",
   "metadata": {},
   "outputs": [
    {
     "name": "stdout",
     "output_type": "stream",
     "text": [
      "Training on 1034802 samples...\n"
     ]
    },
    {
     "name": "stderr",
     "output_type": "stream",
     "text": [
      "20/20 | Step: 1034802/1034802 | Avg Loss: 2943.185919690"
     ]
    }
   ],
   "source": [
    "total_loss = 0\n",
    "log_progress_step = 100\n",
    "losses = []\n",
    "train_dataset_size = len(train_dataset)\n",
    "print(f\"Training on {train_dataset_size} samples...\")\n",
    "\n",
    "for e in range(EPOCHS):\n",
    "    step_count = 0\n",
    "    for i, train_data in enumerate(train_loader):\n",
    "        output = recomendation_model(train_data[\"users\"].to(device),train_data[\"books\"].to(device))\n",
    "\n",
    "        output = output.squeeze()\n",
    "        rating = (train_data[\"ratings\"].to(torch.float32).to(device))\n",
    "\n",
    "        loss = loss_func(output,rating)\n",
    "        total_loss+=loss.sum().item()\n",
    "        optimizer.zero_grad()\n",
    "        loss.backward()\n",
    "        optimizer.step()\n",
    "    \n",
    "        step_count += len(train_data[\"users\"])\n",
    "\n",
    "   \n",
    "    \n",
    "    if (step_count % log_progress_step == 0 or i == len(train_loader)-1):\n",
    "        log_progress(\n",
    "                e, step_count, total_loss, log_progress_step, train_dataset_size, losses\n",
    "        )\n",
    "        total_loss = 0                  \n",
    "        "
   ]
  },
  {
   "cell_type": "code",
   "execution_count": 23,
   "id": "987bc477-285f-4cd8-bcd9-ae44562eef5d",
   "metadata": {},
   "outputs": [
    {
     "data": {
      "image/png": "[encoded data removed]",
      "text/plain": [
       "<Figure size 640x480 with 1 Axes>"
      ]
     },
     "metadata": {},
     "output_type": "display_data"
    }
   ],
   "source": [
    "losses_cpu = [loss.detach().cpu().numpy() if isinstance(loss, torch.Tensor) else loss for loss in losses]\n",
    "\n",
    "plt.figure()\n",
    "plt.plot(losses_cpu)\n",
    "plt.xlabel(\"Steps\")\n",
    "plt.ylabel(\"Avg Loss\")\n",
    "plt.show()"
   ]
  },
  {
   "cell_type": "code",
   "execution_count": 24,
   "id": "1248001c-b793-4248-8804-1e95c28d60ec",
   "metadata": {},
   "outputs": [
    {
     "name": "stdout",
     "output_type": "stream",
     "text": [
      "RMSE: 3.4816\n"
     ]
    }
   ],
   "source": [
    "from sklearn.metrics import mean_squared_error\n",
    "\n",
    "y_pred = []\n",
    "y_true = []\n",
    "\n",
    "recomendation_model.eval()\n",
    "\n",
    "with torch.no_grad():\n",
    "    for i, valid_data in enumerate(val_loader):\n",
    "        output = recomendation_model(\n",
    "            valid_data[\"users\"].to(device), valid_data[\"books\"].to(device)\n",
    "        )\n",
    "        ratings = valid_data[\"ratings\"].to(device)\n",
    "        y_pred.extend(output.cpu().numpy())\n",
    "        y_true.extend(ratings.cpu().numpy())\n",
    "\n",
    "# Calculate RMSE\n",
    "rms = mean_squared_error(y_true, y_pred, squared=False)\n",
    "print(f\"RMSE: {rms:.4f}\")"
   ]
  },
  {
   "cell_type": "code",
   "execution_count": 25,
   "id": "74ca949b-34de-4797-8c39-7fd8cd3e1a4b",
   "metadata": {},
   "outputs": [
    {
     "name": "stdout",
     "output_type": "stream",
     "text": [
      "precision @ 50: 0.6771\n",
      "recall @ 50: 0.8172\n"
     ]
    }
   ],
   "source": [
    "from collections import defaultdict\n",
    "\n",
    "\n",
    "def calculate_precision_recall(user_ratings, k, threshold):\n",
    "    user_ratings.sort(key=lambda x: x[0], reverse=True)\n",
    "    n_rel = sum(true_r >= threshold for _, true_r in user_ratings)\n",
    "    n_rec_k = sum(est >= threshold for est, _ in user_ratings[:k])\n",
    "    n_rel_and_rec_k = sum(\n",
    "        (true_r >= threshold) and (est >= threshold) for est, true_r in user_ratings[:k]\n",
    "    )\n",
    "\n",
    "    precision = n_rel_and_rec_k / n_rec_k if n_rec_k != 0 else 1\n",
    "    recall = n_rel_and_rec_k / n_rel if n_rel != 0 else 1\n",
    "    return precision, recall\n",
    "\n",
    "\n",
    "user_ratings_comparison = defaultdict(list)\n",
    "\n",
    "with torch.no_grad():\n",
    "    for valid_data in val_loader:\n",
    "        users = valid_data[\"users\"].to(device)\n",
    "        movies = valid_data[\"books\"].to(device)\n",
    "        ratings = valid_data[\"ratings\"].to(device)\n",
    "        output = recomendation_model(users, movies)\n",
    "\n",
    "        for user, pred, true in zip(users, output, ratings):\n",
    "            user_ratings_comparison[user.item()].append((pred[0].item(), true.item()))\n",
    "\n",
    "user_precisions = dict()\n",
    "user_based_recalls = dict()\n",
    "\n",
    "k = 50\n",
    "threshold = 3\n",
    "\n",
    "for user_id, user_ratings in user_ratings_comparison.items():\n",
    "    precision, recall = calculate_precision_recall(user_ratings, k, threshold)\n",
    "    user_precisions[user_id] = precision\n",
    "    user_based_recalls[user_id] = recall\n",
    "\n",
    "average_precision = sum(prec for prec in user_precisions.values()) / len(\n",
    "    user_precisions\n",
    ")\n",
    "average_recall = sum(rec for rec in user_based_recalls.values()) / len(\n",
    "    user_based_recalls\n",
    ")\n",
    "\n",
    "print(f\"precision @ {k}: {average_precision:.4f}\")\n",
    "print(f\"recall @ {k}: {average_recall:.4f}\")\n",
    "\n"
   ]
  },
  {
   "cell_type": "code",
   "execution_count": 30,
   "id": "b01bc84d-e515-4de2-8e7b-e455d629ac5a",
   "metadata": {},
   "outputs": [
    {
     "name": "stderr",
     "output_type": "stream",
     "text": [
      "C:\\Users\\Usuario\\AppData\\Local\\Temp\\ipykernel_12508\\1497428915.py:1: DtypeWarning: Columns (3) have mixed types. Specify dtype option on import or set low_memory=False.\n",
      "  df_books = pd.read_csv(\"../data/books/Books.csv\")\n"
     ]
    }
   ],
   "source": [
    "df_books = "
   ]
  },
  {
   "cell_type": "code",
   "execution_count": 31,
   "id": "c740113a-b7ba-422d-aba4-417929571c69",
   "metadata": {},
   "outputs": [
    {
     "data": {
      "text/html": [
       "<div>\n",
       "<style scoped>\n",
       "    .dataframe tbody tr th:only-of-type {\n",
       "        vertical-align: middle;\n",
       "    }\n",
       "\n",
       "    .dataframe tbody tr th {\n",
       "        vertical-align: top;\n",
       "    }\n",
       "\n",
       "    .dataframe thead th {\n",
       "        text-align: right;\n",
       "    }\n",
       "</style>\n",
       "<table border=\"1\" class=\"dataframe\">\n",
       "  <thead>\n",
       "    <tr style=\"text-align: right;\">\n",
       "      <th></th>\n",
       "      <th>ISBN</th>\n",
       "      <th>Book-Title</th>\n",
       "      <th>Book-Author</th>\n",
       "      <th>Year-Of-Publication</th>\n",
       "      <th>Publisher</th>\n",
       "      <th>Image-URL-S</th>\n",
       "      <th>Image-URL-M</th>\n",
       "      <th>Image-URL-L</th>\n",
       "    </tr>\n",
       "  </thead>\n",
       "  <tbody>\n",
       "    <tr>\n",
       "      <th>0</th>\n",
       "      <td>0195153448</td>\n",
       "      <td>Classical Mythology</td>\n",
       "      <td>Mark P. O. Morford</td>\n",
       "      <td>2002</td>\n",
       "      <td>Oxford University Press</td>\n",
       "      <td>http://images.amazon.com/images/P/0195153448.0...</td>\n",
       "      <td>http://images.amazon.com/images/P/0195153448.0...</td>\n",
       "      <td>http://images.amazon.com/images/P/0195153448.0...</td>\n",
       "    </tr>\n",
       "    <tr>\n",
       "      <th>1</th>\n",
       "      <td>0002005018</td>\n",
       "      <td>Clara Callan</td>\n",
       "      <td>Richard Bruce Wright</td>\n",
       "      <td>2001</td>\n",
       "      <td>HarperFlamingo Canada</td>\n",
       "      <td>http://images.amazon.com/images/P/0002005018.0...</td>\n",
       "      <td>http://images.amazon.com/images/P/0002005018.0...</td>\n",
       "      <td>http://images.amazon.com/images/P/0002005018.0...</td>\n",
       "    </tr>\n",
       "    <tr>\n",
       "      <th>2</th>\n",
       "      <td>0060973129</td>\n",
       "      <td>Decision in Normandy</td>\n",
       "      <td>Carlo D'Este</td>\n",
       "      <td>1991</td>\n",
       "      <td>HarperPerennial</td>\n",
       "      <td>http://images.amazon.com/images/P/0060973129.0...</td>\n",
       "      <td>http://images.amazon.com/images/P/0060973129.0...</td>\n",
       "      <td>http://images.amazon.com/images/P/0060973129.0...</td>\n",
       "    </tr>\n",
       "    <tr>\n",
       "      <th>3</th>\n",
       "      <td>0374157065</td>\n",
       "      <td>Flu: The Story of the Great Influenza Pandemic...</td>\n",
       "      <td>Gina Bari Kolata</td>\n",
       "      <td>1999</td>\n",
       "      <td>Farrar Straus Giroux</td>\n",
       "      <td>http://images.amazon.com/images/P/0374157065.0...</td>\n",
       "      <td>http://images.amazon.com/images/P/0374157065.0...</td>\n",
       "      <td>http://images.amazon.com/images/P/0374157065.0...</td>\n",
       "    </tr>\n",
       "    <tr>\n",
       "      <th>4</th>\n",
       "      <td>0393045218</td>\n",
       "      <td>The Mummies of Urumchi</td>\n",
       "      <td>E. J. W. Barber</td>\n",
       "      <td>1999</td>\n",
       "      <td>W. W. Norton &amp;amp; Company</td>\n",
       "      <td>http://images.amazon.com/images/P/0393045218.0...</td>\n",
       "      <td>http://images.amazon.com/images/P/0393045218.0...</td>\n",
       "      <td>http://images.amazon.com/images/P/0393045218.0...</td>\n",
       "    </tr>\n",
       "  </tbody>\n",
       "</table>\n",
       "</div>"
      ],
      "text/plain": [
       "         ISBN                                         Book-Title  \\\n",
       "0  0195153448                                Classical Mythology   \n",
       "1  0002005018                                       Clara Callan   \n",
       "2  0060973129                               Decision in Normandy   \n",
       "3  0374157065  Flu: The Story of the Great Influenza Pandemic...   \n",
       "4  0393045218                             The Mummies of Urumchi   \n",
       "\n",
       "            Book-Author Year-Of-Publication                   Publisher  \\\n",
       "0    Mark P. O. Morford                2002     Oxford University Press   \n",
       "1  Richard Bruce Wright                2001       HarperFlamingo Canada   \n",
       "2          Carlo D'Este                1991             HarperPerennial   \n",
       "3      Gina Bari Kolata                1999        Farrar Straus Giroux   \n",
       "4       E. J. W. Barber                1999  W. W. Norton &amp; Company   \n",
       "\n",
       "                                         Image-URL-S  \\\n",
       "0  http://images.amazon.com/images/P/0195153448.0...   \n",
       "1  http://images.amazon.com/images/P/0002005018.0...   \n",
       "2  http://images.amazon.com/images/P/0060973129.0...   \n",
       "3  http://images.amazon.com/images/P/0374157065.0...   \n",
       "4  http://images.amazon.com/images/P/0393045218.0...   \n",
       "\n",
       "                                         Image-URL-M  \\\n",
       "0  http://images.amazon.com/images/P/0195153448.0...   \n",
       "1  http://images.amazon.com/images/P/0002005018.0...   \n",
       "2  http://images.amazon.com/images/P/0060973129.0...   \n",
       "3  http://images.amazon.com/images/P/0374157065.0...   \n",
       "4  http://images.amazon.com/images/P/0393045218.0...   \n",
       "\n",
       "                                         Image-URL-L  \n",
       "0  http://images.amazon.com/images/P/0195153448.0...  \n",
       "1  http://images.amazon.com/images/P/0002005018.0...  \n",
       "2  http://images.amazon.com/images/P/0060973129.0...  \n",
       "3  http://images.amazon.com/images/P/0374157065.0...  \n",
       "4  http://images.amazon.com/images/P/0393045218.0...  "
      ]
     },
     "execution_count": 31,
     "metadata": {},
     "output_type": "execute_result"
    }
   ],
   "source": [
    "df_books.head()"
   ]
  },
  {
   "cell_type": "code",
   "execution_count": 69,
   "id": "1b24c5c5-3ea2-4c75-9dd1-15072cb9c38a",
   "metadata": {},
   "outputs": [
    {
     "name": "stdout",
     "output_type": "stream",
     "text": [
      "[16200, 46838, 282735, 217995, 284499]\n"
     ]
    }
   ],
   "source": [
    "def recommend_top_books(model, user_id, all_books, seen_books, device, k=5,batch_size =100):\n",
    "    model.eval()\n",
    "    unseen_books = [m for m in all_books if m not in seen_books]\n",
    "    predictions = []\n",
    "\n",
    "    with torch.no_grad():\n",
    "        for i in range(0,len(unseen_books),batch_size):\n",
    "            batch_unseen_books = unseen_books[i:i+batch_size]\n",
    "            user_tensor = torch.tensor([user_id]*len(batch_unseen_books)).to(device)\n",
    "            book_tensor = torch.tensor(batch_unseen_books).to(device)\n",
    "            predicted_ratings = model(user_tensor,book_tensor).view(-1).tolist()\n",
    "            predictions.extend(zip(batch_unseen_books,predicted_ratings))\n",
    "\n",
    "\n",
    "    predictions.sort(key=lambda x:x[1],reverse = True)\n",
    "    top_k_movies = [book_id for book_id, _ in predictions[:k]]\n",
    "    return top_k_movies\n",
    "\n",
    "\n",
    "all_books = pd.read_csv(\"../data/books/Books.csv\", dtype={\"Year-Of-Publication\": str}, low_memory=False)\n",
    "\n",
    "\n",
    "unique_books = df[\"ISBN\"].unique().tolist()\n",
    "user_id = 104434 #random\n",
    "seen_books = set(df[df[\"User-ID\"] == user_id][\"ISBN\"].tolist())\n",
    "\n",
    "recomendations = recommend_top_books(recomendation_model, user_id, unique_books, seen_books, device)\n",
    "\n",
    "\n",
    "print(recomendations)"
   ]
  },
  {
   "cell_type": "code",
   "execution_count": 72,
   "id": "06e86bfc-d940-4db1-bbc0-8b80c3bf7509",
   "metadata": {},
   "outputs": [
    {
     "name": "stdout",
     "output_type": "stream",
     "text": [
      "              ISBN                                         Book-Title\n",
      "262129  0883186101  Physicists Desk Reference (Physicist's Desk Re...\n",
      "180368  0918259053                                     No Hang Ups II\n",
      "240234  0345403185                           If Wishes Were Horses...\n",
      "47504   0312924208            School for Manners #06 Marrying Harriet\n"
     ]
    }
   ],
   "source": [
    "def show_recomend(recomend_indices, all_books_full):\n",
    "    valid_recommendations = [idx for idx in recommendation_indices if idx < len(all_books_full)]\n",
    "\n",
    "    recommended_books = all_books_full.iloc[valid_recommendations]\n",
    "    \n",
    "    print(recommended_books[[\"ISBN\", \"Book-Title\"]])\n",
    "\n",
    "all_books_full = pd.read_csv(\"../data/books/Books.csv\", dtype={\"Year-Of-Publication\": str}, low_memory=False)\n",
    "\n",
    "show_recomend(recomendations,all_books_full)"
   ]
  },
  {
   "cell_type": "code",
   "execution_count": 68,
   "id": "31933750-de61-4407-80a8-92c790be791d",
   "metadata": {},
   "outputs": [],
   "source": [
    "import torch\n",
    "\n",
    "torch.save(recomendation_model.state_dict(), 'model.pth')"
   ]
  },
  {
   "cell_type": "code",
   "execution_count": 73,
   "id": "06850382-4930-4cbf-838b-c02cee492d83",
   "metadata": {},
   "outputs": [
    {
     "data": {
      "text/plain": [
       "['book_model.pkl']"
      ]
     },
     "execution_count": 73,
     "metadata": {},
     "output_type": "execute_result"
    }
   ],
   "source": [
    "import pickle\n",
    "import joblib  \n",
    "\n",
    "filename = 'book_model.pkl'\n",
    "joblib.dump(recomendation_model, filename)"
   ]
  },
  {
   "cell_type": "code",
   "execution_count": null,
   "id": "dbc9776c-c136-4281-8a60-20a3ccc7e893",
   "metadata": {},
   "outputs": [],
   "source": []
  }
 ],
 "metadata": {
  "kernelspec": {
   "display_name": "Python 3 (ipykernel)",
   "language": "python",
   "name": "python3"
  },
  "language_info": {
   "codemirror_mode": {
    "name": "ipython",
    "version": 3
   },
   "file_extension": ".py",
   "mimetype": "text/x-python",
   "name": "python",
   "nbconvert_exporter": "python",
   "pygments_lexer": "ipython3",
   "version": "3.8.15"
  }
 },
 "nbformat": 4,
 "nbformat_minor": 5
}
